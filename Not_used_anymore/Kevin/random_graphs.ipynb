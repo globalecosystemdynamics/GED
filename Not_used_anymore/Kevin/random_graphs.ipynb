{
 "cells": [
  {
   "cell_type": "code",
   "execution_count": 1,
   "metadata": {},
   "outputs": [],
   "source": [
    "import pandas as pd\n",
    "import numpy as np \n",
    "import networkx as nx\n",
    "import random"
   ]
  },
  {
   "cell_type": "code",
   "execution_count": 2,
   "metadata": {},
   "outputs": [],
   "source": [
    "def random_graph(prob_resp,prob_nuevo):\n",
    "    G=nx.Graph()\n",
    "    queue=[\"0\"]\n",
    "    max_index=0\n",
    "    max_respondents=random.randint(20,30)\n",
    "    respondents=0\n",
    "    while len(queue)!=0:\n",
    "        if (random.random()<prob_resp and respondents<max_respondents) or queue[0]==\"0\":\n",
    "            respondents+=1\n",
    "            n=random.randint(6,21)\n",
    "            new_n=0\n",
    "            old_n=0\n",
    "            for i in range(n):\n",
    "                if random.random()<prob_nuevo:\n",
    "                    new_n+=1\n",
    "                else:\n",
    "                    old_n+=1\n",
    "            for i in range(new_n):\n",
    "                new_node=str(i+max_index+1)\n",
    "                queue.append(new_node)\n",
    "                G.add_node(new_node)\n",
    "                G.add_edge(queue[0],new_node)\n",
    "            for i in range(old_n):\n",
    "                node=str(random.randint(0,int(queue[0]))-1)\n",
    "                G.add_edge(queue[0],node)\n",
    "            max_index+=new_n\n",
    "            queue.pop(0)\n",
    "        else:\n",
    "            if random.random()<0.25:\n",
    "                n=random.randint(1,6)\n",
    "                for i in range(n):\n",
    "                    node=str(random.randint(0,int(queue[0]))-1)\n",
    "                    G.add_edge(queue[0],node)\n",
    "            queue.pop(0)\n",
    "    return G\n",
    "    "
   ]
  },
  {
   "cell_type": "code",
   "execution_count": 8,
   "metadata": {},
   "outputs": [],
   "source": [
    "G1 = random_graph(0.25,0.55)\n",
    "G2 = random_graph(0.25,0.55)\n",
    "G3 = random_graph(0.25,0.55)\n",
    "G4 = random_graph(0.25,0.55)\n",
    "G5 = random_graph(0.25,0.55)\n",
    "G6 = random_graph(0.25,0.55)\n",
    "G7 = random_graph(0.25,0.55)\n",
    "G8 = random_graph(0.25,0.55)\n",
    "G9 = random_graph(0.25,0.55)\n",
    "G10 = random_graph(0.25,0.55)\n",
    "nx.write_graphml(G1,'Random_Graphs/Random_Graph_1.graphml')\n",
    "nx.write_graphml(G2,'Random_Graphs/Random_Graph_2.graphml')\n",
    "nx.write_graphml(G3,'Random_Graphs/Random_Graph_3.graphml')\n",
    "nx.write_graphml(G4,'Random_Graphs/Random_Graph_4.graphml')\n",
    "nx.write_graphml(G5,'Random_Graphs/Random_Graph_5.graphml')\n",
    "nx.write_graphml(G6,'Random_Graphs/Random_Graph_6.graphml')\n",
    "nx.write_graphml(G7,'Random_Graphs/Random_Graph_7.graphml')\n",
    "nx.write_graphml(G8,'Random_Graphs/Random_Graph_8.graphml')\n",
    "nx.write_graphml(G9,'Random_Graphs/Random_Graph_9.graphml')\n",
    "nx.write_graphml(G10,'Random_Graphs/Random_Graph_10.graphml')"
   ]
  },
  {
   "cell_type": "code",
   "execution_count": null,
   "metadata": {},
   "outputs": [],
   "source": []
  }
 ],
 "metadata": {
  "language_info": {
   "codemirror_mode": {
    "name": "ipython",
    "version": 3
   },
   "file_extension": ".py",
   "mimetype": "text/x-python",
   "name": "python",
   "nbconvert_exporter": "python",
   "pygments_lexer": "ipython3",
   "version": "3.7.6-final"
  },
  "orig_nbformat": 2,
  "kernelspec": {
   "name": "python3",
   "display_name": "Python 3"
  }
 },
 "nbformat": 4,
 "nbformat_minor": 2
}